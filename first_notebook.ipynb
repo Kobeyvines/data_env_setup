{
 "cells": [
  {
   "cell_type": "code",
   "execution_count": null,
   "id": "0",
   "metadata": {},
   "outputs": [],
   "source": [
    "# Import necessary packages\n",
    "import pandas as pd\n",
    "from db_connect import connect_to_db\n",
    "\n",
    "# Step 1: Connect to the database\n",
    "conn = connect_to_db()\n",
    "\n",
    "# Step 2: Create a cursor and run a query\n",
    "cursor = conn.cursor()\n",
    "query = \"SELECT * FROM food_prices_schema.food_prices LIMIT 5;\"\n",
    "cursor.execute(query)\n",
    "\n",
    "# Step 3: Fetch results and convert to a DataFrame\n",
    "rows = cursor.fetchall()\n",
    "df = pd.DataFrame(rows, columns=[desc[0] for desc in cursor.description])\n",
    "\n",
    "# Step 4: Display the data\n",
    "print(\"Connection successful! Previewing data:\")\n",
    "display(df.head())\n"
   ]
  }
 ],
 "metadata": {
  "kernelspec": {
   "display_name": "medium_environment",
   "language": "python",
   "name": "python3"
  },
  "language_info": {
   "codemirror_mode": {
    "name": "ipython",
    "version": 3
   },
   "file_extension": ".py",
   "mimetype": "text/x-python",
   "name": "python",
   "nbconvert_exporter": "python",
   "pygments_lexer": "ipython3",
   "version": "3.10.18"
  }
 },
 "nbformat": 4,
 "nbformat_minor": 5
}
