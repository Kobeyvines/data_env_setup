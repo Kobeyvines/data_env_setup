{
 "cells": [
  {
   "cell_type": "markdown",
   "id": "0",
   "metadata": {},
   "source": [
    "# <b><u>Connection to DB</u></b>"
   ]
  },
  {
   "cell_type": "markdown",
   "id": "1",
   "metadata": {},
   "source": [
    "This is the connection link to my database on postgreSQL, the actual connection function is on the file **db_connect.py**"
   ]
  },
  {
   "cell_type": "code",
   "execution_count": null,
   "id": "2",
   "metadata": {},
   "outputs": [],
   "source": [
    "# Import necessary packages\n",
    "import pandas as pd\n",
    "from db_connect import connect_to_db\n",
    "\n",
    "# Step 1: Connect to the database\n",
    "conn = connect_to_db()\n",
    "\n",
    "# Step 2: Create a cursor and run a query\n",
    "cursor = conn.cursor()\n",
    "query = \"SELECT * FROM food_prices_cleaned.food_prices_kenya;\"\n",
    "cursor.execute(query)\n",
    "\n",
    "# Step 3: Fetch results and convert to a DataFrame\n",
    "rows = cursor.fetchall()\n",
    "df = pd.DataFrame(rows, columns=[desc[0] for desc in cursor.description])\n",
    "\n",
    "# Step 4: Display the data\n",
    "print(\"Connection successful! Previewing data:\")\n",
    "display(df.head(25))\n"
   ]
  },
  {
   "cell_type": "markdown",
   "id": "3",
   "metadata": {},
   "source": [
    "Data Exploration with Python, tryna get to understand my data"
   ]
  },
  {
   "cell_type": "code",
   "execution_count": null,
   "id": "4",
   "metadata": {},
   "outputs": [],
   "source": [
    "df.info()"
   ]
  },
  {
   "cell_type": "code",
   "execution_count": null,
   "id": "5",
   "metadata": {},
   "outputs": [],
   "source": [
    "df.describe()"
   ]
  },
  {
   "cell_type": "markdown",
   "id": "6",
   "metadata": {},
   "source": [
    "---"
   ]
  },
  {
   "cell_type": "markdown",
   "id": "7",
   "metadata": {},
   "source": [
    "# <b><u>Data Manipulation and Modification</u></b>"
   ]
  },
  {
   "cell_type": "markdown",
   "id": "8",
   "metadata": {},
   "source": [
    "## Standardising potatoes data to price per KG\n",
    "\n",
    "Divide potatoes price columns by 50 to standardize to price per 1kg\n",
    "I choose to do this on derived columns to avoid confusion, or incase i'll need the original data in future."
   ]
  },
  {
   "cell_type": "code",
   "execution_count": null,
   "id": "9",
   "metadata": {},
   "outputs": [],
   "source": [
    "df['o_potatoes_1kg'] = df['o_potatoes'] / 50\n",
    "df['h_potatoes_1kg'] = df['h_potatoes'] / 50\n",
    "df['l_potatoes_1kg'] = df['l_potatoes'] / 50\n",
    "df['c_potatoes_1kg'] = df['c_potatoes'] / 50"
   ]
  },
  {
   "cell_type": "markdown",
   "id": "10",
   "metadata": {},
   "source": [
    "## confirm if the additional potatoes columns have been added\n"
   ]
  },
  {
   "cell_type": "code",
   "execution_count": null,
   "id": "11",
   "metadata": {},
   "outputs": [],
   "source": [
    "df.info()"
   ]
  },
  {
   "cell_type": "markdown",
   "id": "12",
   "metadata": {},
   "source": [
    "Renaming some columns for better understanding of what they represent"
   ]
  },
  {
   "cell_type": "code",
   "execution_count": null,
   "id": "13",
   "metadata": {},
   "outputs": [],
   "source": [
    "import pandas as pd\n",
    "\n",
    "def rename_agric_columns(df):\n",
    "    \"\"\"\n",
    "    Renames columns like o_beans, h_beans, c_maize, etc. \n",
    "    to a consistent format such as beans_open, maize_high, etc.\n",
    "    \"\"\"\n",
    "    rename_map = {}\n",
    "    prefix_map = {\n",
    "        'o': 'open',\n",
    "        'h': 'high',\n",
    "        'l': 'low',\n",
    "        'c': 'close'\n",
    "    }\n",
    "\n",
    "    # Iterate through existing columns\n",
    "    for col in df.columns:\n",
    "        # Check for trading-style prefixes (o_, h_, l_, c_)\n",
    "        for prefix, new_prefix in prefix_map.items():\n",
    "            if col.startswith(f\"{prefix}_\"):\n",
    "                # Example: o_beans → beans_open\n",
    "                rename_map[col] = f\"{col.split('_', 1)[1]}_{new_prefix}\"\n",
    "                break\n",
    "        # Handle inflation_* and trust_* as is\n",
    "        if col.startswith(\"inflation_\") or col.startswith(\"trust_\"):\n",
    "            rename_map[col] = col  # keep same (optional)\n",
    "    \n",
    "    # Apply renaming\n",
    "    df = df.rename(columns=rename_map)\n",
    "    return df"
   ]
  },
  {
   "cell_type": "code",
   "execution_count": null,
   "id": "14",
   "metadata": {},
   "outputs": [],
   "source": [
    "df = rename_agric_columns(df)"
   ]
  },
  {
   "cell_type": "code",
   "execution_count": null,
   "id": "15",
   "metadata": {},
   "outputs": [],
   "source": [
    "df.columns"
   ]
  },
  {
   "cell_type": "markdown",
   "id": "16",
   "metadata": {},
   "source": [
    "In this step i'm grouping the data by province, then ordering it by year: This keeps all rows but arranges them so that:\n",
    "All rows from the same province are grouped together\n",
    "Within each province, data appears in chronological order"
   ]
  },
  {
   "cell_type": "code",
   "execution_count": null,
   "id": "17",
   "metadata": {},
   "outputs": [],
   "source": [
    "df = df.sort_values(['provinces', 'year']).reset_index(drop=True)\n",
    "df"
   ]
  },
  {
   "cell_type": "markdown",
   "id": "18",
   "metadata": {},
   "source": [
    "---"
   ]
  },
  {
   "cell_type": "markdown",
   "id": "19",
   "metadata": {},
   "source": [
    "# <b><u> VISUALS </u></b>"
   ]
  },
  {
   "cell_type": "markdown",
   "id": "20",
   "metadata": {},
   "source": [
    "## Visualizing trends by Time(Yearly and Monthly)"
   ]
  },
  {
   "cell_type": "markdown",
   "id": "21",
   "metadata": {},
   "source": [
    "## General Trends and Overview\n",
    "\n",
    "What are the overall trends in food prices **(beans, maize, potatoes, and the food price index)** across Kenya over the years (2007–2025)?\n",
    "\n",
    "We want to see how prices have changed over time, for each commodity across all regions.\n",
    "That means we’ll probably focus on averages per year (national trend), not per province yet."
   ]
  },
  {
   "cell_type": "markdown",
   "id": "22",
   "metadata": {},
   "source": [
    "We'll start by calculating the mean closing price for each commodity per year:"
   ]
  },
  {
   "cell_type": "markdown",
   "id": "23",
   "metadata": {},
   "source": [
    "# Yearly Trends for Food "
   ]
  },
  {
   "cell_type": "code",
   "execution_count": null,
   "id": "24",
   "metadata": {},
   "outputs": [],
   "source": [
    "yearly_trends = df.groupby('year')[['beans_close','maize_close','potatoes_1kg_close','food_price_index_close']].mean().reset_index()\n",
    "yearly_trends"
   ]
  },
  {
   "cell_type": "markdown",
   "id": "25",
   "metadata": {},
   "source": [
    "## Overall Food Price Trends in Kenya by Year (2007–2025):"
   ]
  },
  {
   "cell_type": "code",
   "execution_count": null,
   "id": "26",
   "metadata": {},
   "outputs": [],
   "source": [
    "import matplotlib.pyplot as plt\n",
    "import seaborn as sns\n",
    "\n",
    "plt.figure(figsize=(12, 6))\n",
    "sns.lineplot(data=yearly_trends, x='year', y='beans_close', label='Beans')\n",
    "sns.lineplot(data=yearly_trends, x='year', y='maize_close', label='Maize')\n",
    "sns.lineplot(data=yearly_trends, x='year', y='potatoes_1kg_close', label='Potatoes')\n",
    "sns.lineplot(data=yearly_trends, x='year', y='food_price_index_close', label='Food_Price_Index')\n",
    "\n",
    "plt.title('Overall Food Price Trends in Kenya (2007–2025)', fontsize=14)\n",
    "plt.xlabel('Year')\n",
    "plt.ylabel('Average Closing Price')\n",
    "plt.legend(title='Commodity')\n",
    "plt.grid(True, linestyle='--', alpha=0.5)\n",
    "plt.tight_layout()\n",
    "plt.show()"
   ]
  },
  {
   "cell_type": "markdown",
   "id": "27",
   "metadata": {},
   "source": [
    "## Breakdown based on the Line chart above \n",
    "\n",
    "### 1. Upward Trend Overall:\n",
    "All commodities **beans**, **maize**, and **potatoes** show a gradual increase in average prices from 2007 through around 2023, followed by a slight decline toward 2025.  \n",
    "This suggests **long-term inflationary pressure on food prices in Kenya**.\n",
    "### 2. Beans are consistently the most expensive:\n",
    "The **blue line(Beans)** remains well above maize and potatoes throughout the period.\n",
    "This likely reflects both higher production costs and strong demand for beans as a protein source\n",
    "### 3. Parallel movement between maize and potatoes\n",
    "The **Orange(maize)** and **green(Potatoes)** line move roughly together, meaning price changes for one often coincide with the other\n",
    "This may reflect **shared market influence** like weather condition or fuel prices that affect all stable crops.\n",
    "### 4. Food Price Index follows the same direction:\n",
    "Even though its values are smaller in scale, the **Food Price Index (red line)** mirrors the general direction of the other commodities.\n",
    "It acts as a **summary indicator** of overall food inflation, showing peaks and troughs that align with the crops’ price changes.\n",
    "### 5. Notable peaks (2022–2023):\n",
    "There’s a sharp spike across all commodities around 2022–2023, likely due to **global and local disruptions** e.g., drought, COVID-19 aftereffects, global supply chain issues or elections.\n",
    "After this spike, prices dip slightly toward 2025, suggesting a partial recovery or stabilization.\n",
    "### 6. Notable Dips\n",
    "There are **two visible dips**, around **2010** and **2018**, across most commodities.  \n",
    "These years coincide with **major election periods in Kenya** (the 2010 constitutional referendum and the 2017 general election).  \n",
    "Such events often influence food prices through **market disruptions, political uncertainty, and short-term policy changes** that affect production and distribution.\n"
   ]
  },
  {
   "cell_type": "markdown",
   "id": "28",
   "metadata": {},
   "source": [
    "# Monthly Trends for Food"
   ]
  },
  {
   "cell_type": "code",
   "execution_count": null,
   "id": "29",
   "metadata": {},
   "outputs": [],
   "source": [
    "monthly_trends = df.groupby(['year','month'])[['beans_close','maize_close','potatoes_1kg_close','food_price_index_close']].mean().reset_index()\n",
    "monthly_trends"
   ]
  },
  {
   "cell_type": "markdown",
   "id": "30",
   "metadata": {},
   "source": [
    "# Visuals For Monthly Trends"
   ]
  },
  {
   "cell_type": "code",
   "execution_count": null,
   "id": "31",
   "metadata": {},
   "outputs": [],
   "source": [
    "import calendar\n",
    "\n",
    "def month_to_name(x):\n",
    "    # If it's an integer (1–12), convert to month name\n",
    "    if isinstance(x, int):\n",
    "        return calendar.month_name[x]\n",
    "    # If it's already a string (e.g. \"January\"), keep it as is\n",
    "    return x\n",
    "\n",
    "monthly_trends['month'] = monthly_trends['month'].apply(month_to_name)"
   ]
  },
  {
   "cell_type": "markdown",
   "id": "32",
   "metadata": {},
   "source": [
    "# Heat map for Beans"
   ]
  },
  {
   "cell_type": "code",
   "execution_count": null,
   "id": "33",
   "metadata": {},
   "outputs": [],
   "source": [
    "# Make sure month names are properly formatted and ordered\n",
    "month_order = list(calendar.month_name[1:])\n",
    "\n",
    "# Convert month column to an ordered categorical type\n",
    "monthly_trends['month'] = pd.Categorical(monthly_trends['month'],\n",
    "                                         categories=month_order,\n",
    "                                         ordered=True)\n",
    "\n",
    "# pivot will respect that order\n",
    "pivot = monthly_trends.pivot(index='year', columns='month', values='beans_close')\n",
    "\n",
    "plt.figure(figsize=(10,6))\n",
    "sns.heatmap(pivot, cmap='RdYlGn_r', annot=True, fmt=\".1f\")\n",
    "plt.title('Seasonal Heatmap of Beans (Monthly Averages)')\n",
    "plt.xlabel('Month')\n",
    "plt.ylabel('Year')\n",
    "plt.show()"
   ]
  },
  {
   "cell_type": "markdown",
   "id": "34",
   "metadata": {},
   "source": [
    "# Heat map for Maize"
   ]
  },
  {
   "cell_type": "code",
   "execution_count": null,
   "id": "35",
   "metadata": {},
   "outputs": [],
   "source": [
    "# Make sure month names are properly formatted and ordered\n",
    "month_order = list(calendar.month_name[1:])\n",
    "\n",
    "# Convert month column to an ordered categorical type\n",
    "monthly_trends['month'] = pd.Categorical(monthly_trends['month'],\n",
    "                                         categories=month_order,\n",
    "                                         ordered=True)\n",
    "\n",
    "# pivot will respect that order\n",
    "pivot = monthly_trends.pivot(index='year', columns='month', values='maize_close')\n",
    "\n",
    "plt.figure(figsize=(10,6))\n",
    "sns.heatmap(pivot, cmap='YlGnBu', annot=True, fmt=\".1f\")\n",
    "plt.title('Seasonal Heatmap of Food Price Index (Monthly Averages)')\n",
    "plt.xlabel('Month')\n",
    "plt.ylabel('Year')\n",
    "plt.show()"
   ]
  },
  {
   "cell_type": "markdown",
   "id": "36",
   "metadata": {},
   "source": [
    "# Heat map for potatoes"
   ]
  },
  {
   "cell_type": "code",
   "execution_count": null,
   "id": "37",
   "metadata": {},
   "outputs": [],
   "source": [
    "# Make sure month names are properly formatted and ordered\n",
    "month_order = list(calendar.month_name[1:])\n",
    "\n",
    "# Convert month column to an ordered categorical type\n",
    "monthly_trends['month'] = pd.Categorical(monthly_trends['month'],\n",
    "                                         categories=month_order,\n",
    "                                         ordered=True)\n",
    "\n",
    "# pivot will respect that order\n",
    "pivot = monthly_trends.pivot(index='year', columns='month', values='potatoes_1kg_close')\n",
    "\n",
    "plt.figure(figsize=(10,6))\n",
    "sns.heatmap(pivot, cmap='YlGnBu', annot=True, fmt=\".1f\")\n",
    "plt.title('Seasonal Heatmap of Food Price Index (Monthly Averages)')\n",
    "plt.xlabel('Month')\n",
    "plt.ylabel('Year')\n",
    "plt.show()"
   ]
  },
  {
   "cell_type": "markdown",
   "id": "38",
   "metadata": {},
   "source": [
    "# Heat map for Food Prices Index"
   ]
  },
  {
   "cell_type": "code",
   "execution_count": null,
   "id": "39",
   "metadata": {},
   "outputs": [],
   "source": [
    "import calendar\n",
    "# Make sure month names are properly formatted and ordered\n",
    "month_order = list(calendar.month_name[1:])\n",
    "\n",
    "# Convert month column to an ordered categorical type\n",
    "monthly_trends['month'] = pd.Categorical(monthly_trends['month'],\n",
    "                                         categories=month_order,\n",
    "                                         ordered=True)\n",
    "\n",
    "# pivot will respect that order\n",
    "pivot = monthly_trends.pivot(index='year', columns='month', values='food_price_index_close')\n",
    "\n",
    "plt.figure(figsize=(10,6))\n",
    "sns.heatmap(pivot, cmap='RdYlGn_r', annot=True, fmt=\".1f\")\n",
    "plt.title('Seasonal Heatmap of Food Price Index (Monthly Averages)')\n",
    "plt.xlabel('Month')\n",
    "plt.ylabel('Year')\n",
    "plt.show()"
   ]
  },
  {
   "cell_type": "markdown",
   "id": "40",
   "metadata": {},
   "source": [
    "# Interpretation of the Heatmap: Seasonal Food Price Index (2007–2025)\n",
    "#### 1.**General Trend Over Time (2007-2025)**\n",
    "The **color intensity deepens gradually from top to bottom**, indicating that **food prices have generally increased** over the years.\n",
    "Earlier years (2007–2010) show light yellow-green colors (index ≈ 0.4–0.8), while recent years (2023–2025) show dark blue shades (index ≈ 1.3–1.7).\n",
    "**Conclusion:** There’s a clear long-term upward trend in food prices, reflecting inflation, cost of production, or other macroeconomic factors.\n",
    "\n",
    "#### 2.**Seasonal (Month-to-Month) Variation**\n",
    "\n",
    "Prices tend to **peak** between **May and August (darker shades)**.\n",
    "**January to April** often shows **lighter colors**, relatively lower food prices.\n",
    "September to December stabilizes or slightly cools off, depending on the year.\n",
    "**Interpretation:**\n",
    "This suggests **seasonal price pressure mid-year**, possibly linked to:\n",
    "**Planting or lean** seasons before harvest (reduced supply).\n",
    "**Increased demand** or transport challenges in those months.\n",
    "Conversely, **lower prices early in the year** may correspond to harvest periods when supply is abundant.\n",
    "\n",
    "#### 3. **Exceptional Years**\n",
    "\n",
    "**2023** shows the **darkest overall colors** (1.6–1.8 range), indicating **exceptionally high prices** likely due to **inflationary pressures or external shocks** (e.g., global food shortages, climate effects).\n",
    "2010 and 2016 show relatively cooler colors even mid-year, meaning prices were comparatively stable during those periods.\n",
    "**Conclusion:** Prices have become consistently high but less seasonally volatile in recent years.\n",
    "\n"
   ]
  },
  {
   "cell_type": "markdown",
   "id": "41",
   "metadata": {},
   "source": [
    "---"
   ]
  },
  {
   "cell_type": "markdown",
   "id": "42",
   "metadata": {},
   "source": [
    "## Visualizing trends by Regions(Province, County and Market)"
   ]
  },
  {
   "cell_type": "markdown",
   "id": "43",
   "metadata": {},
   "source": [
    "## Regions that consistently have the highest or lowest food prices By Province"
   ]
  },
  {
   "cell_type": "markdown",
   "id": "44",
   "metadata": {},
   "source": [
    "#### Average Closing Price of Food Per Province"
   ]
  },
  {
   "cell_type": "code",
   "execution_count": null,
   "id": "45",
   "metadata": {},
   "outputs": [],
   "source": [
    "# Step 1: Group by provinces and year to get average closing prices per year\n",
    "avg_prices_province = (\n",
    "    df.groupby(['provinces','year'], as_index=False)[['beans_close', 'maize_close','potatoes_1kg_close','food_price_index_close']].mean()\n",
    ")\n",
    "avg_prices_province"
   ]
  },
  {
   "cell_type": "markdown",
   "id": "46",
   "metadata": {},
   "source": [
    "#### Visualize the table above (Average Closing Price of Food Per Province)"
   ]
  },
  {
   "cell_type": "code",
   "execution_count": null,
   "id": "47",
   "metadata": {},
   "outputs": [],
   "source": [
    "# Step 1: Reshape your data from wide to long format\n",
    "price_columns = ['beans_close', 'maize_close', 'potatoes_1kg_close', 'food_price_index_close']\n",
    "df_long = avg_prices_province.melt(\n",
    "    id_vars=['provinces', 'year'],\n",
    "    value_vars=price_columns,\n",
    "    var_name='Commodity',\n",
    "    value_name='Price'\n",
    ")\n",
    "\n",
    "print(\"--- Head of Reshaped (Long) Data ---\")\n",
    "print(df_long.head())\n",
    "print(\"\\n\")\n",
    "\n",
    "# 2. Plot the data using sns.relplot\n",
    "sns.set_style(\"whitegrid\")\n",
    "\n",
    "# This creates a Figure-level plot that automatically handles faceting\n",
    "g = sns.relplot(\n",
    "    data=df_long,\n",
    "    kind='line',          # Specify a line plot\n",
    "    x='year',\n",
    "    y='Price',\n",
    "    hue='Commodity',      # Color lines by commodity\n",
    "    col='provinces',      # Create columns for each province\n",
    "    col_wrap=3,           # Wrap the columns after 3 plots\n",
    "    height=3.5,           # Height of each individual plot\n",
    "    aspect=1.5,           # Aspect ratio (width/height)\n",
    "    legend='full'\n",
    ")\n",
    "\n",
    "# Step 3: Customize titles and labels\n",
    "g.set_axis_labels('Year', 'Average Closing Price')\n",
    "g.set_titles(col_template='{col_name}')\n",
    "g.fig.suptitle('Food Price Trends by Province (2007–2025)', fontsize=16, y=1.03) # Add a main title\n",
    "\n",
    "# 4. Save the figure\n",
    "#plt.tight_layout()\n",
    "plt.savefig('province_price_trends.png')\n",
    "\n",
    "print(\"Faceted plot saved to 'province_price_trends.png'\")"
   ]
  },
  {
   "cell_type": "markdown",
   "id": "48",
   "metadata": {},
   "source": [
    "### Province with consistently the Highest and Lowest Food Price"
   ]
  },
  {
   "cell_type": "code",
   "execution_count": null,
   "id": "49",
   "metadata": {},
   "outputs": [],
   "source": [
    "# Created a New Column average_food_price\n",
    "avg_prices_province['avg_food_price'] = avg_prices_province[\n",
    "   ['beans_close', 'maize_close', 'potatoes_1kg_close']\n",
    "].mean(axis=1)"
   ]
  },
  {
   "cell_type": "markdown",
   "id": "50",
   "metadata": {},
   "source": [
    "#### Highest & Lowest Overall Average Food Prices By Province"
   ]
  },
  {
   "cell_type": "code",
   "execution_count": null,
   "id": "51",
   "metadata": {},
   "outputs": [],
   "source": [
    "# Compute the long-term average for each province\n",
    "province_avg_overall = (\n",
    "    avg_prices_province.groupby('provinces', as_index=False)['avg_food_price']\n",
    "    .mean()\n",
    "    .sort_values(by='avg_food_price', ascending=False)\n",
    ")\n",
    "\n",
    "# Display results\n",
    "print(province_avg_overall)\n",
    "\n",
    "# Get the top province\n",
    "top_province = province_avg_overall.iloc[0]\n",
    "bottom_province = province_avg_overall.iloc[-1]\n",
    "print(f\"Province with consistently highest food price: {top_province['provinces']} ({top_province['avg_food_price']:.2f})\")\n",
    "print(f\"Province with consistently lowest food price: {bottom_province['provinces']} ({bottom_province['avg_food_price']:.2f})\")\n"
   ]
  },
  {
   "cell_type": "markdown",
   "id": "52",
   "metadata": {},
   "source": [
    "#### Higest & Lowest Overall Prices by Province for each crop"
   ]
  },
  {
   "cell_type": "code",
   "execution_count": null,
   "id": "53",
   "metadata": {},
   "outputs": [],
   "source": [
    "# List of commodities to analyze\n",
    "crops = ['beans_close', 'maize_close', 'potatoes_1kg_close', 'food_price_index_close']\n",
    "\n",
    "for crop in crops:\n",
    "    crop_name = crop.replace('_close', '').capitalize()\n",
    "    print(f\"\\n🌾 Ranking of provinces by average {crop_name} price:\\n\")\n",
    "\n",
    "    # Compute average price per province\n",
    "    province_avg = (\n",
    "        avg_prices_province.groupby('provinces', as_index=False)[crop]\n",
    "        .mean()\n",
    "        .sort_values(by=crop, ascending=False)\n",
    "    )\n",
    "\n",
    "    # Print full ranking\n",
    "    for i, row in province_avg.iterrows():\n",
    "        print(f\"{i+1}. {row['provinces']}: {row[crop]:.2f}\")\n",
    "\n",
    "    # Identify top and bottom provinces\n",
    "    top = province_avg.iloc[0]\n",
    "    bottom = province_avg.iloc[-1]\n",
    "\n",
    "    # Print summary\n",
    "    print(f\"\\n🏆 Highest average {crop_name} price: {top['provinces']} ({top[crop]:.2f})\")\n",
    "    print(f\"💰 Lowest average {crop_name} price: {bottom['provinces']} ({bottom[crop]:.2f})\")\n",
    "    print(\"-\" * 60)"
   ]
  },
  {
   "cell_type": "markdown",
   "id": "54",
   "metadata": {},
   "source": [
    "----"
   ]
  },
  {
   "cell_type": "markdown",
   "id": "55",
   "metadata": {},
   "source": [
    "## Regions that consistently have the highest or lowest food prices By County"
   ]
  },
  {
   "cell_type": "markdown",
   "id": "56",
   "metadata": {},
   "source": [
    "#### Average Closing price of Food per County"
   ]
  },
  {
   "cell_type": "code",
   "execution_count": null,
   "id": "57",
   "metadata": {},
   "outputs": [],
   "source": [
    "# Step 2: Group by counties and year to get average closing prices per year\n",
    "avg_prices_county = (\n",
    "    df.groupby(['counties','year'], as_index=False)[['beans_close', 'maize_close','potatoes_1kg_close','food_price_index_close']].mean()\n",
    ")\n",
    "avg_prices_county"
   ]
  },
  {
   "cell_type": "markdown",
   "id": "58",
   "metadata": {},
   "source": [
    "#### Visualize the table above (Average Closing Price of Food Per County)"
   ]
  },
  {
   "cell_type": "code",
   "execution_count": null,
   "id": "59",
   "metadata": {},
   "outputs": [],
   "source": [
    "# Step 1: Keep province info for later merge\n",
    "county_province_map = df[['counties', 'provinces']].drop_duplicates()\n",
    "\n",
    "# Step 2: Group by counties and year (correct averaging)\n",
    "avg_prices_county = (\n",
    "    df.groupby(['counties', 'year'], as_index=False)[\n",
    "        ['beans_close', 'maize_close', 'potatoes_1kg_close', 'food_price_index_close']\n",
    "    ].mean()\n",
    ")\n",
    "\n",
    "# Step 3: Merge province info back\n",
    "avg_prices_county = avg_prices_county.merge(county_province_map, on='counties', how='left')\n",
    "\n",
    "# Step 4: Append province name to county\n",
    "avg_prices_county['county_label'] = avg_prices_county['counties'] + \" (\" + avg_prices_county['provinces'] + \")\"\n",
    "\n",
    "# Step 5: Reshape for visualization\n",
    "price_columns = ['beans_close', 'maize_close', 'potatoes_1kg_close', 'food_price_index_close']\n",
    "df_long = avg_prices_county.melt(\n",
    "    id_vars=['provinces', 'county_label', 'year'],\n",
    "    value_vars=price_columns,\n",
    "    var_name='Commodity',\n",
    "    value_name='Price'\n",
    ")\n",
    "\n",
    "# Step 6: Plot\n",
    "sns.set_style(\"whitegrid\")\n",
    "\n",
    "g = sns.relplot(\n",
    "    data=df_long,\n",
    "    kind='line',\n",
    "    x='year',\n",
    "    y='Price',\n",
    "    hue='Commodity',\n",
    "    col='county_label',    # use new county label\n",
    "    col_wrap=3,\n",
    "    height=3.5,\n",
    "    aspect=1.5,\n",
    "    legend='full'\n",
    ")\n",
    "\n",
    "g.set_axis_labels('Year', 'Average Closing Price')\n",
    "g.set_titles(col_template='{col_name}')\n",
    "g.fig.suptitle('Food Price Trends by County (2007–2025)', fontsize=16, y=1.03)\n",
    "\n",
    "plt.savefig('county_price_trends_labeled.png', bbox_inches='tight')\n",
    "print(\"Faceted plot saved to 'county_price_trends_labeled.png'\")\n"
   ]
  },
  {
   "cell_type": "markdown",
   "id": "60",
   "metadata": {},
   "source": [
    "### Counties with consistently the Highest & Lowest Food Price"
   ]
  },
  {
   "cell_type": "code",
   "execution_count": null,
   "id": "61",
   "metadata": {},
   "outputs": [],
   "source": [
    "# Created a New Column average_food_price\n",
    "avg_prices_county['avg_food_price'] = avg_prices_county[\n",
    "    ['beans_close', 'maize_close', 'potatoes_1kg_close']\n",
    "].mean(axis=1)\n",
    "avg_prices_county"
   ]
  },
  {
   "cell_type": "markdown",
   "id": "62",
   "metadata": {},
   "source": [
    "#### Highest & Lowest Overall Average Food Prices By county"
   ]
  },
  {
   "cell_type": "code",
   "execution_count": null,
   "id": "63",
   "metadata": {},
   "outputs": [],
   "source": [
    "# Compute the long-term average for each County\n",
    "county_avg_overall = (\n",
    "    avg_prices_county.groupby('counties', as_index=False)['avg_food_price']\n",
    "    .mean()\n",
    "    .sort_values(by='avg_food_price', ascending=False)\n",
    ")\n",
    "\n",
    "# Display results\n",
    "print(county_avg_overall)\n",
    "\n",
    "# Get the top & bottom County\n",
    "top_county = county_avg_overall.iloc[0]\n",
    "bottom_county = county_avg_overall.iloc[-1]\n",
    "print(f\"County with consistently highest food price: {top_county['counties']} ({top_county['avg_food_price']:.2f})\")\n",
    "print(f\"County with consistently lowest food price: {bottom_county['counties']} ({bottom_county['avg_food_price']:.2f})\")\n"
   ]
  },
  {
   "cell_type": "markdown",
   "id": "64",
   "metadata": {},
   "source": [
    "#### Higest & Lowest Overall Prices by county for each crop"
   ]
  },
  {
   "cell_type": "code",
   "execution_count": null,
   "id": "65",
   "metadata": {},
   "outputs": [],
   "source": [
    "# List of commodities to analyze\n",
    "crops = ['beans_close', 'maize_close', 'potatoes_1kg_close', 'food_price_index_close']\n",
    "\n",
    "for crop in crops:\n",
    "    crop_name = crop.replace('_close', '').capitalize()\n",
    "    print(f\"\\n🌾 Ranking of counties by average {crop_name} price:\\n\")\n",
    "\n",
    "    # Compute average price per county\n",
    "    county_avg = (\n",
    "        avg_prices_county.groupby('counties', as_index=False)[crop]\n",
    "        .mean()\n",
    "        .sort_values(by=crop, ascending=False)\n",
    "    )\n",
    "\n",
    "    # Print full ranking\n",
    "    for i, row in county_avg.iterrows():\n",
    "        print(f\"{i+1}. {row['counties']}: {row[crop]:.2f}\")\n",
    "\n",
    "    # Identify top and bottom county\n",
    "    top = county_avg.iloc[0]\n",
    "    bottom = county_avg.iloc[-1]\n",
    "\n",
    "    # Print summary\n",
    "    print(f\"\\n🏆 Highest average {crop_name} price: {top['counties']} ({top[crop]:.2f})\")\n",
    "    print(f\"💰 Lowest average {crop_name} price: {bottom['counties']} ({bottom[crop]:.2f})\")\n",
    "    print(\"-\" * 60)"
   ]
  },
  {
   "cell_type": "markdown",
   "id": "66",
   "metadata": {},
   "source": [
    "----"
   ]
  },
  {
   "cell_type": "markdown",
   "id": "67",
   "metadata": {},
   "source": [
    "## Regions that consistently have the highest or lowest food prices By Market"
   ]
  },
  {
   "cell_type": "markdown",
   "id": "68",
   "metadata": {},
   "source": [
    "### Average Closing Price for Food per Market"
   ]
  },
  {
   "cell_type": "code",
   "execution_count": null,
   "id": "69",
   "metadata": {},
   "outputs": [],
   "source": [
    "# Step 3: Group by market and year to get average closing prices per year\n",
    "avg_prices_mkt = (\n",
    "    df.groupby(['mkt_name','year'], as_index=False)[['beans_close', 'maize_close','potatoes_1kg_close','food_price_index_close']].mean()\n",
    ")\n",
    "avg_prices_mkt"
   ]
  },
  {
   "cell_type": "markdown",
   "id": "70",
   "metadata": {},
   "source": [
    "#### Visualize the table above (Average Closing Price of Food Per Market)"
   ]
  },
  {
   "cell_type": "code",
   "execution_count": null,
   "id": "71",
   "metadata": {},
   "outputs": [],
   "source": [
    "# Step 1: Create a mapping of market → county & province\n",
    "market_location_map = df[['mkt_name', 'counties', 'provinces']].drop_duplicates()\n",
    "\n",
    "# Step 2: Group by market and year to compute averages (if not already done)\n",
    "avg_prices_mkt = (\n",
    "    df.groupby(['mkt_name', 'year'], as_index=False)[\n",
    "        ['beans_close', 'maize_close', 'potatoes_1kg_close', 'food_price_index_close']\n",
    "    ].mean()\n",
    ")\n",
    "\n",
    "# Step 3: Merge location info into the averages\n",
    "avg_prices_mkt = avg_prices_mkt.merge(market_location_map, on='mkt_name', how='left')\n",
    "\n",
    "# Step 4: Append county and province to market name\n",
    "avg_prices_mkt['mkt_label'] = (\n",
    "    avg_prices_mkt['mkt_name']\n",
    "    + \" (\" \n",
    "    + avg_prices_mkt['counties'] \n",
    "    + \", \" \n",
    "    + avg_prices_mkt['provinces'] \n",
    "    + \")\"\n",
    ")\n",
    "\n",
    "# Step 5: Reshape data for plotting\n",
    "price_columns = ['beans_close', 'maize_close', 'potatoes_1kg_close', 'food_price_index_close']\n",
    "df_long = avg_prices_mkt.melt(\n",
    "    id_vars=['mkt_label', 'year'],\n",
    "    value_vars=price_columns,\n",
    "    var_name='Commodity',\n",
    "    value_name='Price'\n",
    ")\n",
    "\n",
    "print(\"--- Head of Reshaped (Long) Data ---\")\n",
    "print(df_long.head(), \"\\n\")\n",
    "\n",
    "# Step 6: Plot\n",
    "sns.set_style(\"whitegrid\")\n",
    "\n",
    "g = sns.relplot(\n",
    "    data=df_long,\n",
    "    kind='line',\n",
    "    x='year',\n",
    "    y='Price',\n",
    "    hue='Commodity',\n",
    "    col='mkt_label',     # use new combined label\n",
    "    col_wrap=3,\n",
    "    height=3.5,\n",
    "    aspect=1.5,\n",
    "    legend='full'\n",
    ")\n",
    "\n",
    "g.set_axis_labels('Year', 'Average Closing Price')\n",
    "g.set_titles(col_template='{col_name}')\n",
    "g.fig.suptitle('Food Price Trends by Market (2007–2025)', fontsize=16, y=1.03)\n",
    "\n",
    "plt.savefig('Market_price_trends_labeled.png', bbox_inches='tight')\n",
    "print(\"Faceted plot saved to 'Market_price_trends_labeled.png'\")\n"
   ]
  },
  {
   "cell_type": "markdown",
   "id": "72",
   "metadata": {},
   "source": [
    "### Markets with consistently the Highest & Lowest Food Price"
   ]
  },
  {
   "cell_type": "code",
   "execution_count": null,
   "id": "73",
   "metadata": {},
   "outputs": [],
   "source": [
    "# Created a New Column average_food_price per market\n",
    "avg_prices_mkt['avg_food_price'] = avg_prices_mkt[\n",
    "    ['beans_close', 'maize_close', 'potatoes_1kg_close']\n",
    "].mean(axis=1)\n",
    "avg_prices_mkt"
   ]
  },
  {
   "cell_type": "markdown",
   "id": "74",
   "metadata": {},
   "source": [
    "#### Highest & Lowest Overall Average Food Prices By Market"
   ]
  },
  {
   "cell_type": "code",
   "execution_count": null,
   "id": "75",
   "metadata": {},
   "outputs": [],
   "source": [
    "# Compute the long-term average for each market\n",
    "mkt_avg_overall = (\n",
    "    avg_prices_mkt.groupby('mkt_name', as_index=False)['avg_food_price']\n",
    "    .mean()\n",
    "    .sort_values(by='avg_food_price', ascending=False)\n",
    ")\n",
    "\n",
    "# Display results\n",
    "print(mkt_avg_overall)\n",
    "\n",
    "# Get the top & bottom County\n",
    "top_mkt = mkt_avg_overall.iloc[0]\n",
    "bottom_mkt = mkt_avg_overall.iloc[-1]\n",
    "print(f\"Market with consistently highest food price: {top_mkt['mkt_name']} ({top_mkt['avg_food_price']:.2f})\")\n",
    "print(f\"Market with consistently lowest food price: {bottom_mkt['mkt_name']} ({bottom_mkt['avg_food_price']:.2f})\")\n"
   ]
  },
  {
   "cell_type": "markdown",
   "id": "76",
   "metadata": {},
   "source": [
    "#### Highest & Lowest Overall Prices by Market for each crop"
   ]
  },
  {
   "cell_type": "code",
   "execution_count": null,
   "id": "77",
   "metadata": {},
   "outputs": [],
   "source": [
    "# List of commodities to analyze\n",
    "crops = ['beans_close', 'maize_close', 'potatoes_1kg_close', 'food_price_index_close']\n",
    "\n",
    "for crop in crops:\n",
    "    crop_name = crop.replace('_close', '').capitalize()\n",
    "    print(f\"\\n🌾 Ranking of markets by average {crop_name} price:\\n\")\n",
    "\n",
    "    # Compute average price per Market\n",
    "    mkt_avg = (\n",
    "        avg_prices_mkt.groupby('mkt_name', as_index=False)[crop]\n",
    "        .mean()\n",
    "        .sort_values(by=crop, ascending=False)\n",
    "    )\n",
    "\n",
    "    # Print full ranking\n",
    "    for i, row in mkt_avg.iterrows():\n",
    "        print(f\"{i+1}. {row['mkt_name']}: {row[crop]:.2f}\")\n",
    "\n",
    "    # Identify top and bottom Market\n",
    "    top = mkt_avg.iloc[0]\n",
    "    bottom = mkt_avg.iloc[-1]\n",
    "\n",
    "    # Print summary\n",
    "    print(f\"\\n🏆 Highest average {crop_name} price: {top['mkt_name']} ({top[crop]:.2f})\")\n",
    "    print(f\"💰 Lowest average {crop_name} price: {bottom['mkt_name']} ({bottom[crop]:.2f})\")\n",
    "    print(\"-\" * 60)"
   ]
  },
  {
   "cell_type": "markdown",
   "id": "78",
   "metadata": {},
   "source": [
    "# Insights From the Charts"
   ]
  },
  {
   "cell_type": "markdown",
   "id": "79",
   "metadata": {},
   "source": [
    "### 1. Universal Price Shock (2022-2023)\n",
    "The most striking feature across **every single province and county is a dramatic and sharp increase in food prices** starting around 2022 and peaking in 2023.\n",
    "\n",
    "**Nationwide Event:** The fact that this spike occurs simultaneously in all regions (from Wajir in the North Eastern to Mombasa on the Coast, and Nakuru in the Rift Valley) strongly suggests a nationwide event, such as a severe drought, major economic factors (e.g., inflation, fuel prices), or global supply chain issues affecting the entire country.\n",
    "\n",
    "**Gradual Rise Pre-2020:** Before this spike, the general trend from 2007 to 2020 was a slow, gradual increase in prices for all commodities.\n",
    "\n",
    "**Post-Peak Leveling:** The data from 2023 towards 2025 indicates that prices have begun to fall slightly or level off from their extreme 2023 peaks, though they remain significantly higher than pre-2022 levels.\n",
    "\n",
    "### 2. Commodity-Specific Price Tiers\n",
    "The commodities exist in distinct price brackets:\n",
    "\n",
    "**Beans (beans_close):** This is consistently the most expensive commodity by a significant margin in all regions. It also exhibits the highest volatility, with the most dramatic peaks and troughs, and it experienced the most extreme price surge during the 2022-2023 event.\n",
    "\n",
    "**Maize (maize_close) and Potatoes (potatoes_1kg_close):** These two commodities are much cheaper than beans. Their prices track each other very closely across the entire 18-year period and in all regions. This high correlation suggests their prices are driven by similar market forces, and they may act as substitutes for one another.\n",
    "\n",
    "**Food Price Index (food_price_index_close):** This red line remains consistently flat and low (around a value of 10-15) in every chart. This indicates it is not a direct price but likely a composite index measured against a base year, and it is not as volatile as the prices of these individual staple foods.\n",
    "\n",
    "### 3. Regional Variations in Price Magnitude\n",
    "While all regions follow the same pattern, the magnitude of the price spikes varies.\n",
    "\n",
    "**Highest Price Spikes:** The provincial chart shows that the North Eastern, Coast, and Eastern provinces experienced the most severe price peaks for beans (beans_close), with average prices surging well above 150.\n",
    "\n",
    "**Supporting County Data:** This is confirmed by the county-level charts. For example, Wajir (North Eastern) and Mombasa (Coast) show some of the most extreme peaks in bean prices.\n",
    "\n",
    "**Major Production Areas:** Regions like the Rift Valley (e.g., Nakuru, Uasin Gishu counties) also saw severe price hikes, but the peak for beans appears to be slightly less extreme than in the North Eastern or Coast regions. This could imply that regions further from production centers or with logistical challenges (like North Eastern) face greater price volatility."
   ]
  }
 ],
 "metadata": {
  "kernelspec": {
   "display_name": "medium_article",
   "language": "python",
   "name": "python3"
  },
  "language_info": {
   "codemirror_mode": {
    "name": "ipython",
    "version": 3
   },
   "file_extension": ".py",
   "mimetype": "text/x-python",
   "name": "python",
   "nbconvert_exporter": "python",
   "pygments_lexer": "ipython3",
   "version": "3.10.18"
  }
 },
 "nbformat": 4,
 "nbformat_minor": 5
}
