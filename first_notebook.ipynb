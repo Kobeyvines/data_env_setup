{
 "cells": [
  {
   "cell_type": "markdown",
   "id": "0",
   "metadata": {},
   "source": [
    "This is the connection link to my database on postgreSQL, the actual connection function is on the file db_connect.db"
   ]
  },
  {
   "cell_type": "code",
   "execution_count": null,
   "id": "1",
   "metadata": {},
   "outputs": [],
   "source": [
    "# Import necessary packages\n",
    "import pandas as pd\n",
    "from db_connect import connect_to_db\n",
    "\n",
    "# Step 1: Connect to the database\n",
    "conn = connect_to_db()\n",
    "\n",
    "# Step 2: Create a cursor and run a query\n",
    "cursor = conn.cursor()\n",
    "query = \"SELECT * FROM food_prices_cleaned.food_prices_kenya;\"\n",
    "cursor.execute(query)\n",
    "\n",
    "# Step 3: Fetch results and convert to a DataFrame\n",
    "rows = cursor.fetchall()\n",
    "df = pd.DataFrame(rows, columns=[desc[0] for desc in cursor.description])\n",
    "\n",
    "# Step 4: Display the data\n",
    "print(\"Connection successful! Previewing data:\")\n",
    "display(df.head(25))\n"
   ]
  },
  {
   "cell_type": "markdown",
   "id": "2",
   "metadata": {},
   "source": [
    "Data Exploration with Python, tryna get to understand my data"
   ]
  },
  {
   "cell_type": "code",
   "execution_count": null,
   "id": "3",
   "metadata": {},
   "outputs": [],
   "source": [
    "df.info(50)"
   ]
  },
  {
   "cell_type": "code",
   "execution_count": null,
   "id": "4",
   "metadata": {},
   "outputs": [],
   "source": [
    "df.describe()"
   ]
  },
  {
   "cell_type": "markdown",
   "id": "5",
   "metadata": {},
   "source": [
    "# Standardising potatoes data to price per KG\n",
    "\n",
    "Divide potatoes price columns by 50 to standardize to price per 1kg\n",
    "I choose to do this on derived columns to avoid confusion, or incase i'll need the original data in future."
   ]
  },
  {
   "cell_type": "code",
   "execution_count": null,
   "id": "6",
   "metadata": {},
   "outputs": [],
   "source": [
    "df['o_potatoes_1kg'] = df['o_potatoes'] / 50\n",
    "df['h_potatoes_1kg'] = df['h_potatoes'] / 50\n",
    "df['l_potatoes_1kg'] = df['l_potatoes'] / 50\n",
    "df['c_potatoes_1kg'] = df['c_potatoes'] / 50"
   ]
  },
  {
   "cell_type": "markdown",
   "id": "7",
   "metadata": {},
   "source": [
    "# confirm if the additional potatoes columns have been added\n"
   ]
  },
  {
   "cell_type": "code",
   "execution_count": null,
   "id": "8",
   "metadata": {},
   "outputs": [],
   "source": [
    "df.info()"
   ]
  },
  {
   "cell_type": "markdown",
   "id": "9",
   "metadata": {},
   "source": [
    "Renaming some columns for better understanding of what they represent"
   ]
  },
  {
   "cell_type": "code",
   "execution_count": null,
   "id": "10",
   "metadata": {},
   "outputs": [],
   "source": [
    "import pandas as pd\n",
    "\n",
    "def rename_agric_columns(df):\n",
    "    \"\"\"\n",
    "    Renames columns like o_beans, h_beans, c_maize, etc. \n",
    "    to a consistent format such as beans_open, maize_high, etc.\n",
    "    \"\"\"\n",
    "    rename_map = {}\n",
    "    prefix_map = {\n",
    "        'o': 'open',\n",
    "        'h': 'high',\n",
    "        'l': 'low',\n",
    "        'c': 'close'\n",
    "    }\n",
    "\n",
    "    # Iterate through existing columns\n",
    "    for col in df.columns:\n",
    "        # Check for trading-style prefixes (o_, h_, l_, c_)\n",
    "        for prefix, new_prefix in prefix_map.items():\n",
    "            if col.startswith(f\"{prefix}_\"):\n",
    "                # Example: o_beans → beans_open\n",
    "                rename_map[col] = f\"{col.split('_', 1)[1]}_{new_prefix}\"\n",
    "                break\n",
    "        # Handle inflation_* and trust_* as is\n",
    "        if col.startswith(\"inflation_\") or col.startswith(\"trust_\"):\n",
    "            rename_map[col] = col  # keep same (optional)\n",
    "    \n",
    "    # Apply renaming\n",
    "    df = df.rename(columns=rename_map)\n",
    "    return df"
   ]
  },
  {
   "cell_type": "code",
   "execution_count": null,
   "id": "11",
   "metadata": {},
   "outputs": [],
   "source": [
    "df = rename_agric_columns(df)"
   ]
  },
  {
   "cell_type": "code",
   "execution_count": null,
   "id": "12",
   "metadata": {},
   "outputs": [],
   "source": [
    "print(df.columns)"
   ]
  },
  {
   "cell_type": "markdown",
   "id": "13",
   "metadata": {},
   "source": [
    "In this step i'm grouping the data by province, then ordering it by year: This keeps all rows but arranges them so that:\n",
    "All rows from the same province are grouped together\n",
    "Within each province, data appears in chronological order"
   ]
  },
  {
   "cell_type": "code",
   "execution_count": null,
   "id": "14",
   "metadata": {},
   "outputs": [],
   "source": [
    "df = df.sort_values(['provinces', 'year']).reset_index(drop=True)\n",
    "df"
   ]
  },
  {
   "cell_type": "markdown",
   "id": "15",
   "metadata": {},
   "source": [
    "# Visualize the trends"
   ]
  },
  {
   "cell_type": "markdown",
   "id": "16",
   "metadata": {},
   "source": [
    "# General Trends and Overview\n",
    "\n",
    "What are the overall trends in food prices **(beans, maize, potatoes, and the food price index)** across Kenya over the years (2007–2025)?\n",
    "\n",
    "want to see how prices have changed over time, for each commodity across all regions.\n",
    "That means we’ll probably focus on averages per year (national trend), not per province yet."
   ]
  },
  {
   "cell_type": "markdown",
   "id": "17",
   "metadata": {},
   "source": [
    "We'll start by calculating the mean closing price for each commodity per year:"
   ]
  },
  {
   "cell_type": "code",
   "execution_count": null,
   "id": "18",
   "metadata": {},
   "outputs": [],
   "source": [
    "yearly_trends = df.groupby('year')[['beans_close','maize_close','potatoes_1kg_close','food_price_index_close']].mean().reset_index()\n",
    "yearly_trends"
   ]
  },
  {
   "cell_type": "markdown",
   "id": "19",
   "metadata": {},
   "source": [
    "## Overall Food Price Trends in Kenya (2007–2025):"
   ]
  },
  {
   "cell_type": "code",
   "execution_count": null,
   "id": "20",
   "metadata": {},
   "outputs": [],
   "source": [
    "import matplotlib.pyplot as plt\n",
    "import seaborn as sns\n",
    "\n",
    "plt.figure(figsize=(12, 6))\n",
    "sns.lineplot(data=yearly_trends, x='year', y='beans_close', label='Beans')\n",
    "sns.lineplot(data=yearly_trends, x='year', y='maize_close', label='Maize')\n",
    "sns.lineplot(data=yearly_trends, x='year', y='potatoes_1kg_close', label='Potatoes')\n",
    "sns.lineplot(data=yearly_trends, x='year', y='food_price_index_close', label='Food_Price_Index')\n",
    "\n",
    "plt.title('Overall Food Price Trends in Kenya (2007–2025)', fontsize=14)\n",
    "plt.xlabel('Year')\n",
    "plt.ylabel('Average Closing Price')\n",
    "plt.legend(title='Commodity')\n",
    "plt.grid(True, linestyle='--', alpha=0.5)\n",
    "plt.tight_layout()\n",
    "plt.show()"
   ]
  },
  {
   "cell_type": "markdown",
   "id": "21",
   "metadata": {},
   "source": [
    "## Breakdown based on the Line chart above \n",
    "\n",
    "### 1. Upward Trend Overall:\n",
    "All commodities **beans**, **maize**, and **potatoes** show a gradual increase in average prices from 2007 through around 2023, followed by a slight decline toward 2025.  \n",
    "This suggests **long-term inflationary pressure on food prices in Kenya**.\n",
    "### 2. Beans are consistently the most expensive:\n",
    "The **blue line(Beans)** remains well above maize and potatoes throughout the period.\n",
    "This likely reflects both higher production costs and strong demand for beans as a protein source\n",
    "### 3. Parallel movement between maize and potatoes\n",
    "The **Orange(maize)** and **green(Potatoes)** line move roughly together, meaning price changes for one often coincide with the other\n",
    "This may reflect **shared market influence** like weather condition or fuel prices that affect all stable crops.\n",
    "### 4. Food Price Index follows the same direction:\n",
    "Even though its values are smaller in scale, the **Food Price Index (red line)** mirrors the general direction of the other commodities.\n",
    "It acts as a **summary indicator** of overall food inflation, showing peaks and troughs that align with the crops’ price changes.\n",
    "### 5. Notable peaks (2022–2023):\n",
    "There’s a sharp spike across all commodities around 2022–2023, likely due to **global and local disruptions** e.g., drought, COVID-19 aftereffects, global supply chain issues or elections.\n",
    "After this spike, prices dip slightly toward 2025, suggesting a partial recovery or stabilization.\n",
    "### 6. Notable Dips\n",
    "There are **two visible dips**, around **2010** and **2018**, across most commodities.  \n",
    "These years coincide with **major election periods in Kenya** (the 2010 constitutional referendum and the 2017 general election).  \n",
    "Such events often influence food prices through **market disruptions, political uncertainty, and short-term policy changes** that affect production and distribution.\n"
   ]
  },
  {
   "cell_type": "markdown",
   "id": "22",
   "metadata": {},
   "source": [
    "## Regions that consistently have the highest or lowest food prices"
   ]
  },
  {
   "cell_type": "markdown",
   "id": "23",
   "metadata": {},
   "source": [
    "### Regions that regularly rank in the top or bottom 3 for each year."
   ]
  },
  {
   "cell_type": "markdown",
   "id": "24",
   "metadata": {},
   "source": [
    "#### Average Closing Price of Food Per Province"
   ]
  },
  {
   "cell_type": "code",
   "execution_count": null,
   "id": "25",
   "metadata": {},
   "outputs": [],
   "source": [
    "# Step 1: Group by provinces and year to get average closing prices per year\n",
    "avg_prices_province = (\n",
    "    df.groupby(['provinces','year'], as_index=False)[['beans_close', 'maize_close','potatoes_1kg_close','food_price_index_close']].mean()\n",
    ")\n",
    "avg_prices_province"
   ]
  },
  {
   "cell_type": "markdown",
   "id": "26",
   "metadata": {},
   "source": [
    "#### Visualize the table above (Average Closing Price of Food Per Province)"
   ]
  },
  {
   "cell_type": "code",
   "execution_count": null,
   "id": "27",
   "metadata": {},
   "outputs": [],
   "source": [
    "import pandas as pd\n",
    "import numpy as np\n",
    "import seaborn as sns\n",
    "import matplotlib.pyplot as plt\n",
    "import itertools\n",
    "\n",
    "# --- Create Realistic Dummy Data ---\n",
    "# (You can skip this part and use your own DataFrame)\n",
    "provinces = ['Central', 'Rift Valley', 'Nyanza', 'Western', 'Eastern', 'Coast']\n",
    "years = range(2007, 2026)\n",
    "\n",
    "# Create all combinations of province and year\n",
    "data = list(itertools.product(provinces, years))\n",
    "df = pd.DataFrame(data, columns=['provinces', 'year'])\n",
    "\n",
    "# Generate semi-realistic price data\n",
    "np.random.seed(42)\n",
    "base_prices = {\n",
    "    'beans_close': 50, 'maize_close': 30, 'potatoes_1kg_close': 40, 'food_price_index_close': 100\n",
    "}\n",
    "growth_rates = {\n",
    "    'beans_close': 2.5, 'maize_close': 1.2, 'potatoes_1kg_close': 1.8, 'food_price_index_close': 3.5\n",
    "}\n",
    "noise_levels = {\n",
    "    'beans_close': 10, 'maize_close': 5, 'potatoes_1kg_close': 8, 'food_price_index_close': 15\n",
    "}\n",
    "province_factors = {p: 1 + (i - 3) * 0.1 for i, p in enumerate(provinces)} # e.g., -30% to +20% factor\n",
    "\n",
    "for col, base in base_prices.items():\n",
    "    noise = np.random.normal(0, noise_levels[col], len(df))\n",
    "    # Apply base, growth, and random noise\n",
    "    df[col] = base + (df['year'] - 2007) * growth_rates[col] + noise\n",
    "    # Apply province-specific multiplier\n",
    "    df[col] = df.apply(lambda row: row[col] * province_factors[row['provinces']], axis=1)\n",
    "\n",
    "# --- End of Dummy Data Creation ---\n",
    "# Asssume your DataFrame is 'df'\n",
    "\n",
    "# 1. Reshape the data from \"wide\" to \"long\" format\n",
    "price_columns = ['beans_close', 'maize_close', 'potatoes_1kg_close', 'food_price_index_close']\n",
    "df_long = df.melt(\n",
    "    id_vars=['provinces', 'year'],\n",
    "    value_vars=price_columns,\n",
    "    var_name='Commodity',  # New column for the commodity type\n",
    "    value_name='Price'       # New column for the price value\n",
    ")\n",
    "\n",
    "print(\"--- Head of Reshaped (Long) Data ---\")\n",
    "print(df_long.head())\n",
    "print(\"\\n\")\n",
    "\n",
    "# 2. Plot the data using sns.relplot\n",
    "sns.set_style(\"whitegrid\")\n",
    "\n",
    "# This creates a Figure-level plot that automatically handles faceting\n",
    "g = sns.relplot(\n",
    "    data=df_long,\n",
    "    kind='line',          # Specify a line plot\n",
    "    x='year',\n",
    "    y='Price',\n",
    "    hue='Commodity',      # Color lines by commodity\n",
    "    col='provinces',      # Create columns for each province\n",
    "    col_wrap=3,           # Wrap the columns after 3 plots\n",
    "    height=3.5,           # Height of each individual plot\n",
    "    aspect=1.5,           # Aspect ratio (width/height)\n",
    "    legend='full'\n",
    ")\n",
    "\n",
    "# 3. Customize titles and labels\n",
    "g.set_axis_labels('Year', 'Average Closing Price')\n",
    "g.set_titles(\"Province: {col_name}\") # Customize facet titles\n",
    "g.fig.suptitle('Food Price Trends by Province (2007–2025)', fontsize=16, y=1.03) # Add a main title\n",
    "\n",
    "# 4. Save the figure\n",
    "#plt.tight_layout()\n",
    "plt.savefig('province_price_trends.png')\n",
    "\n",
    "print(\"Faceted plot saved to 'province_price_trends.png'\")"
   ]
  },
  {
   "cell_type": "code",
   "execution_count": null,
   "id": "28",
   "metadata": {},
   "outputs": [],
   "source": [
    "# Step 1: Reshape your data from wide to long format\n",
    "price_columns = ['beans_close', 'maize_close', 'potatoes_1kg_close', 'food_price_index_close']\n",
    "df_long = avg_prices_province.melt(\n",
    "    id_vars=['provinces', 'year'],\n",
    "    value_vars=price_columns,\n",
    "    var_name='Commodity',\n",
    "    value_name='Price'\n",
    ")\n",
    "\n",
    "print(\"--- Head of Reshaped (Long) Data ---\")\n",
    "print(df_long.head())\n",
    "print(\"\\n\")\n",
    "\n",
    "# 2. Plot the data using sns.relplot\n",
    "sns.set_style(\"whitegrid\")\n",
    "\n",
    "# This creates a Figure-level plot that automatically handles faceting\n",
    "g = sns.relplot(\n",
    "    data=df_long,\n",
    "    kind='line',          # Specify a line plot\n",
    "    x='year',\n",
    "    y='Price',\n",
    "    hue='Commodity',      # Color lines by commodity\n",
    "    col='provinces',      # Create columns for each province\n",
    "    col_wrap=3,           # Wrap the columns after 3 plots\n",
    "    height=3.5,           # Height of each individual plot\n",
    "    aspect=1.5,           # Aspect ratio (width/height)\n",
    "    legend='full'\n",
    ")\n",
    "\n",
    "# Step 3: Customize titles and labels\n",
    "g.set_axis_labels('Year', 'Average Closing Price')\n",
    "g.set_titles(col_template='{col_name}')\n",
    "g.fig.suptitle('Food Price Trends by Province (2007–2025)', fontsize=16, y=1.03) # Add a main title\n",
    "\n",
    "# 4. Save the figure\n",
    "#plt.tight_layout()\n",
    "plt.savefig('province_price_trends.png')\n",
    "\n",
    "print(\"Faceted plot saved to 'province_price_trends.png'\")"
   ]
  },
  {
   "cell_type": "markdown",
   "id": "29",
   "metadata": {},
   "source": [
    "#### Average Closing price of Food per County"
   ]
  },
  {
   "cell_type": "code",
   "execution_count": null,
   "id": "30",
   "metadata": {},
   "outputs": [],
   "source": [
    "# Step 2: Group by counties and year to get average closing prices per year\n",
    "avg_prices_county = (\n",
    "    df.groupby(['counties','year'], as_index=False)[['beans_close', 'maize_close','potatoes_1kg_close','food_price_index_close']].mean()\n",
    ")\n",
    "avg_prices_county"
   ]
  },
  {
   "cell_type": "markdown",
   "id": "31",
   "metadata": {},
   "source": [
    "#### Visualize the table above (Average Closing Price of Food Per County)"
   ]
  }
 ],
 "metadata": {
  "kernelspec": {
   "display_name": "medium_article",
   "language": "python",
   "name": "python3"
  },
  "language_info": {
   "codemirror_mode": {
    "name": "ipython",
    "version": 3
   },
   "file_extension": ".py",
   "mimetype": "text/x-python",
   "name": "python",
   "nbconvert_exporter": "python",
   "pygments_lexer": "ipython3",
   "version": "3.10.18"
  }
 },
 "nbformat": 4,
 "nbformat_minor": 5
}
